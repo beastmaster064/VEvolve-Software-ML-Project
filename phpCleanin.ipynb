{
 "cells": [
  {
   "cell_type": "code",
   "execution_count": 1,
   "metadata": {},
   "outputs": [],
   "source": [
    "#header import\n",
    "import csv\n",
    "import re"
   ]
  },
  {
   "cell_type": "code",
   "execution_count": 2,
   "metadata": {
    "tags": []
   },
   "outputs": [],
   "source": [
    "#Removing non php platform\n",
    "\n",
    "with open('files_exploits.csv', encoding=\"utf8\") as csv_file:\n",
    "    csv_reader = csv.reader(csv_file)\n",
    "\n",
    "    with open('php.csv', 'w' ,encoding=\"utf8\", newline='') as new_file:\n",
    "        csv_writer = csv.writer(new_file)\n",
    "        \n",
    "        for row in csv_reader:\n",
    "            if row[6] == \"php\" or row[6] == \"platform\":\n",
    "                csv_writer.writerow(row)       "
   ]
  },
  {
   "cell_type": "code",
   "execution_count": 6,
   "metadata": {
    "tags": []
   },
   "outputs": [
    {
     "output_type": "error",
     "ename": "SyntaxError",
     "evalue": "unexpected EOF while parsing (<ipython-input-6-d3a5a3fb7525>, line 6)",
     "traceback": [
      "\u001b[1;36m  File \u001b[1;32m\"<ipython-input-6-d3a5a3fb7525>\"\u001b[1;36m, line \u001b[1;32m6\u001b[0m\n\u001b[1;33m    #print(row)\u001b[0m\n\u001b[1;37m                ^\u001b[0m\n\u001b[1;31mSyntaxError\u001b[0m\u001b[1;31m:\u001b[0m unexpected EOF while parsing\n"
     ]
    }
   ],
   "source": [
    "#print details\n",
    "\n",
    "with open('php.csv', encoding=\"utf8\") as csv_file:\n",
    "    phpcsv_reader = csv.reader(csv_file)\n",
    "    #for row in phpcsv_reader:\n",
    "        #print(row) "
   ]
  },
  {
   "cell_type": "code",
   "execution_count": 4,
   "metadata": {
    "tags": []
   },
   "outputs": [],
   "source": [
    "#Split Device,Version,Cause\n",
    "\n",
    "inp_fname = 'php.csv'\n",
    "out_fname = 'dataset.csv'\n",
    "\n",
    "with open(inp_fname, 'r', newline='', encoding=\"utf-8\") as in_csvfile, \\\n",
    "        open(out_fname, 'w', newline='', encoding=\"utf-8\") as out_csvfile:\n",
    "    reader = csv.reader(in_csvfile, delimiter=',', skipinitialspace=True)\n",
    "    writer = csv.writer(out_csvfile, delimiter=',')\n",
    "    next(reader)\n",
    "    for row in reader:\n",
    "        v = row[2].split('-')\n",
    "        for i in v[0]:\n",
    "            if i.isdigit():\n",
    "                i_index = v[0].index(i)\n",
    "                v1 = v[0][:i_index]\n",
    "                v2 = v[0][i_index:]\n",
    "                break\n",
    "\n",
    "        # for j in reversed(v1):\n",
    "        #     if j.isalpha():\n",
    "        #         j_index = v1.index(j)\n",
    "        #         break\n",
    "\n",
    "        # v1_1 = v1[:j_index+1]\n",
    "        # v1_2 = v2[i_index+1:]\n",
    "\n",
    "        writer.writerow(row[0:2] + [v1] + [v2] + [v[1]] + row[3:])"
   ]
  },
  {
   "cell_type": "code",
   "execution_count": 5,
   "metadata": {
    "tags": []
   },
   "outputs": [],
   "source": [
    "#Port 80 for non users\n",
    "\n",
    "with open('dataset.csv', encoding=\"utf8\") as csv_file:\n",
    "    csv_reader = csv.reader(csv_file)\n",
    "\n",
    "    with open('dataset2.csv', 'w' ,encoding=\"utf8\", newline='') as new_file:\n",
    "        csv_writer = csv.writer(new_file)\n",
    "        \n",
    "        for row in csv_reader:\n",
    "            if row[7] == \"\":\n",
    "                row[7] = \"80\"\n",
    "            csv_writer.writerow(row)"
   ]
  },
  {
   "cell_type": "code",
   "execution_count": null,
   "metadata": {},
   "outputs": [],
   "source": []
  }
 ],
 "metadata": {
  "kernelspec": {
   "display_name": "Python 3",
   "language": "python",
   "name": "python3"
  },
  "language_info": {
   "codemirror_mode": {
    "name": "ipython",
    "version": 3
   },
   "file_extension": ".py",
   "mimetype": "text/x-python",
   "name": "python",
   "nbconvert_exporter": "python",
   "pygments_lexer": "ipython3",
   "version": "3.7.4-final"
  }
 },
 "nbformat": 4,
 "nbformat_minor": 4
}