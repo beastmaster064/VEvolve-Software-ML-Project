{
 "cells": [
  {
   "cell_type": "code",
   "execution_count": 2,
   "metadata": {},
   "outputs": [],
   "source": [
    "#importing libraries\n",
    "\n",
    "import pandas as pd \n",
    "import sklearn\n",
    "from packaging import version\n",
    "from distutils.version import LooseVersion, StrictVersion\n",
    "from pkg_resources import parse_version"
   ]
  },
  {
   "cell_type": "code",
   "execution_count": 25,
   "metadata": {
    "tags": []
   },
   "outputs": [],
   "source": [
    "#reading dataset\n",
    "\n",
    "dataset = \"dataset/simple.csv\"\n",
    "df = pd.read_csv(dataset)\n",
    "df = df.loc[:, ~df.columns.str.contains('^Unnamed')]"
   ]
  },
  {
   "cell_type": "code",
   "execution_count": 4,
   "metadata": {
    "tags": []
   },
   "outputs": [],
   "source": [
    "#version formating\n",
    "\n",
    "count = 0\n",
    "for i in df.index:\n",
    "    df.loc[i,'version'] = str(df.loc[i, 'version']).replace(\" \",\"\")\n",
    "    if df.loc[i,'version'].isalpha():\n",
    "        df.drop(i)     "
   ]
  },
  {
   "cell_type": "code",
   "execution_count": 5,
   "metadata": {
    "tags": []
   },
   "outputs": [],
   "source": [
    "#version to float\n",
    "\n",
    "for i in df.index:\n",
    "    dotFlag = 1\n",
    "    number = 0\n",
    "    slashFlag = 0\n",
    "    place = 10\n",
    "    for j in df.loc[i,'version']:\n",
    "        if (j.isdigit()):\n",
    "            number = number * place + int(j) * dotFlag\n",
    "            if(place == 1):\n",
    "                dotFlag = dotFlag * 0.1\n",
    "        elif j == '.':\n",
    "            if place != 1:\n",
    "                dotFlag = dotFlag * 0.1\n",
    "                place = 1\n",
    "        else:\n",
    "            break    \n",
    "    df.loc[i,'version'] = round(number,4)\n",
    "\n",
    "df.to_csv(\"dataset/new.csv\")    \n",
    "    "
   ]
  },
  {
   "cell_type": "code",
   "execution_count": 43,
   "metadata": {},
   "outputs": [],
   "source": [
    "#Labelling Vulnerabilities \n",
    "\n",
    "dataset = \"dataset/new.csv\"\n",
    "df = pd.read_csv(dataset)\n",
    "df = df.loc[:, ~df.columns.str.contains('^Unnamed')]\n",
    "df.description=df.description.astype(str)\n",
    "\n",
    "matches0 = [\"sql\", \"code\", \"execution\", \"nuke\", \"injection\"]\n",
    "matches1 = [\"denial\", \"service\"]\n",
    "matches2 = [\"cross\", \"site\", \"scripting\", \"xss\"]\n",
    "matches3 = [\"remote\", \"file\"]\n",
    "matches4 = [\"buffer\", \"overflow\"]\n",
    "\n",
    "for i in df.index:\n",
    "    if any(x in df.loc[i,'description'].lower() for x in matches0):\n",
    "        df.loc[i,'description'] = 0\n",
    "    elif any(x in df.loc[i,'description'].lower() for x in matches1):\n",
    "        df.loc[i,'description'] = 1\n",
    "    elif any(x in df.loc[i,'description'].lower() for x in matches2):\n",
    "        df.loc[i,'description'] = 2\n",
    "    elif any(x in df.loc[i,'description'].lower() for x in matches3):\n",
    "        df.loc[i,'description'] = 3\n",
    "    elif any(x in df.loc[i,'description'].lower() for x in matches4):\n",
    "        df.loc[i,'description'] = 4\n",
    "    else:\n",
    "        df.loc[i,'description'] = 5\n",
    "\n",
    "df.to_csv(\"dataset/newfinal.csv\")\n",
    "    "
   ]
  },
  {
   "cell_type": "code",
   "execution_count": null,
   "metadata": {},
   "outputs": [],
   "source": []
  }
 ],
 "metadata": {
  "language_info": {
   "codemirror_mode": {
    "name": "ipython",
    "version": 3
   },
   "file_extension": ".py",
   "mimetype": "text/x-python",
   "name": "python",
   "nbconvert_exporter": "python",
   "pygments_lexer": "ipython3",
   "version": "3.8.5-final"
  },
  "orig_nbformat": 2,
  "kernelspec": {
   "name": "python3",
   "display_name": "Python 3"
  }
 },
 "nbformat": 4,
 "nbformat_minor": 2
}