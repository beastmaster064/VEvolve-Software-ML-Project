{
 "cells": [
  {
   "cell_type": "code",
   "execution_count": 10,
   "metadata": {},
   "outputs": [],
   "source": [
    "import pandas as pd\n",
    "import numpy as np\n",
    "from sklearn import preprocessing\n",
    "import statistics \n",
    "from sklearn.linear_model import LogisticRegression\n",
    "from sklearn import metrics\n",
    "from sklearn.model_selection import train_test_split\n",
    "from sklearn.metrics import confusion_matrix\n",
    "from sklearn.metrics import classification_report"
   ]
  },
  {
   "cell_type": "code",
   "execution_count": 2,
   "metadata": {},
   "outputs": [],
   "source": [
    "a=pd.read_csv('dataset.csv')\n",
    "#x1=a.Count \n",
    "data2=np.array(a.version)"
   ]
  },
  {
   "cell_type": "code",
   "execution_count": 3,
   "metadata": {
    "tags": []
   },
   "outputs": [],
   "source": [
    "x3=[]\n",
    "n=data2.shape[0]\n",
    "for i in range(n):\n",
    "    x3.append(a.loc[i,'port'])    \n",
    "data = list(zip(data2,x3))"
   ]
  },
  {
   "cell_type": "code",
   "execution_count": 4,
   "metadata": {},
   "outputs": [],
   "source": [
    "# sd=statistics.stdev(x1)\n",
    "# m=statistics.mean(x1)\n",
    "# normalized_x1=(x1-m)/sd"
   ]
  },
  {
   "cell_type": "code",
   "execution_count": 5,
   "metadata": {},
   "outputs": [],
   "source": [
    "label= a.description\n",
    "# n=normalized_x1.shape[0]\n",
    "# for i in range(0,n):\n",
    "#     if normalized_x1[i]>=0 :\n",
    "#         label.append(1)\n",
    "#     else :\n",
    "#         label.append(0)"
   ]
  },
  {
   "cell_type": "code",
   "execution_count": 6,
   "metadata": {},
   "outputs": [
    {
     "output_type": "execute_result",
     "data": {
      "text/plain": "LogisticRegression()"
     },
     "metadata": {},
     "execution_count": 6
    }
   ],
   "source": [
    "X_train, X_test, y_train, y_test = train_test_split(data, label, test_size=0.3, random_state=0)\n",
    "logreg = LogisticRegression()\n",
    "logreg.fit(X_train, y_train)"
   ]
  },
  {
   "cell_type": "code",
   "execution_count": 7,
   "metadata": {
    "tags": []
   },
   "outputs": [
    {
     "output_type": "stream",
     "name": "stdout",
     "text": "Accuracy of logistic regression classifier on test set: 0.39\n"
    }
   ],
   "source": [
    "y_pred = logreg.predict(X_test)\n",
    "print('Accuracy of logistic regression classifier on test set: {:.2f}'.format(logreg.score(X_test, y_test)))"
   ]
  },
  {
   "cell_type": "code",
   "execution_count": 8,
   "metadata": {
    "tags": []
   },
   "outputs": [
    {
     "output_type": "stream",
     "name": "stdout",
     "text": "[[2379    0    0    3    0    0]\n [  32    0    0    0    0    0]\n [1276    0    0    0    0    0]\n [1218    0    0    5    0    0]\n [   1    0    0    0    0    0]\n [1195    0    0    1    0    0]]\n"
    }
   ],
   "source": [
    "confusion_matrix = confusion_matrix(y_test, y_pred)\n",
    "print(confusion_matrix)"
   ]
  },
  {
   "cell_type": "code",
   "execution_count": 9,
   "metadata": {
    "tags": []
   },
   "outputs": [
    {
     "output_type": "stream",
     "name": "stdout",
     "text": "precision    recall  f1-score   support\n\n           0       0.66      1.00      0.79      2173\n           1       0.67      0.00      0.00      1146\n\n    accuracy                           0.66      3319\n   macro avg       0.66      0.50      0.40      3319\nweighted avg       0.66      0.66      0.52      3319\n\n"
    }
   ],
   "source": [
    "print(classification_report(y_test, y_pred))"
   ]
  },
  {
   "cell_type": "code",
   "execution_count": 11,
   "metadata": {
    "tags": []
   },
   "outputs": [
    {
     "output_type": "stream",
     "name": "stdout",
     "text": "Accuracy Score: 0.38985270049099835\n[[2381    0    0    1    0    0]\n [  32    0    0    0    0    0]\n [1276    0    0    0    0    0]\n [1221    0    0    1    0    1]\n [   1    0    0    0    0    0]\n [1194    0    0    2    0    0]]\n              precision    recall  f1-score   support\n\n           0       0.39      1.00      0.56      2382\n           1       0.00      0.00      0.00        32\n           2       0.00      0.00      0.00      1276\n           3       0.25      0.00      0.00      1223\n           4       0.00      0.00      0.00         1\n           5       0.00      0.00      0.00      1196\n\n    accuracy                           0.39      6110\n   macro avg       0.11      0.17      0.09      6110\nweighted avg       0.20      0.39      0.22      6110\n\n"
    }
   ],
   "source": [
    "#SVM Accuracy\n",
    "\n",
    "from sklearn.svm import SVC\n",
    "\n",
    "X_train, X_test, y_train, y_test = train_test_split(data, label, test_size=0.3, random_state=0)\n",
    "\n",
    "svc = SVC(kernel='rbf')\n",
    "svc.fit(X_train,y_train)\n",
    "\n",
    "y_pred = svc.predict(X_test)\n",
    "confusion_matrix2 = confusion_matrix(y_test, y_pred)\n",
    "print('Accuracy Score:', metrics.accuracy_score(y_test,y_pred))\n",
    "print(confusion_matrix2)\n",
    "print(classification_report(y_test, y_pred))"
   ]
  },
  {
   "cell_type": "code",
   "execution_count": 13,
   "metadata": {
    "tags": []
   },
   "outputs": [
    {
     "output_type": "stream",
     "name": "stdout",
     "text": "Accuracy Score: 0.6357336547152757\n[[2036  137]\n [1072   74]]\n"
    }
   ],
   "source": [
    "#DescisionTree\n",
    "\n",
    "X_train, X_test, y_train, y_test = train_test_split(data, label, test_size=0.3, random_state=0)\n",
    "\n",
    "from sklearn.tree import DecisionTreeClassifier\n",
    "classifier = DecisionTreeClassifier()\n",
    "classifier = classifier.fit(X_train,y_train)\n",
    "\n",
    "y_pred = classifier.predict(X_test)\n",
    "print('Accuracy Score:', metrics.accuracy_score(y_test,y_pred))\n",
    "cm = confusion_matrix(y_test, y_pred)\n",
    "print(cm)"
   ]
  },
  {
   "cell_type": "code",
   "execution_count": null,
   "metadata": {},
   "outputs": [],
   "source": []
  }
 ],
 "metadata": {
  "kernelspec": {
   "display_name": "Python 3",
   "language": "python",
   "name": "python3"
  },
  "language_info": {
   "codemirror_mode": {
    "name": "ipython",
    "version": 3
   },
   "file_extension": ".py",
   "mimetype": "text/x-python",
   "name": "python",
   "nbconvert_exporter": "python",
   "pygments_lexer": "ipython3",
   "version": "3.8.5-final"
  }
 },
 "nbformat": 4,
 "nbformat_minor": 4
}